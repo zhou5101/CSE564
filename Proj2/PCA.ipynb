{
 "cells": [
  {
   "cell_type": "code",
   "execution_count": 9,
   "id": "a163d51d",
   "metadata": {},
   "outputs": [],
   "source": [
    "from sklearn.decomposition import PCA\n",
    "import numpy as np\n",
    "import pandas as pd\n",
    "from sklearn.preprocessing import StandardScaler\n",
    "from sklearn.cluster import KMeans\n"
   ]
  },
  {
   "cell_type": "code",
   "execution_count": 10,
   "id": "99960314",
   "metadata": {},
   "outputs": [
    {
     "data": {
      "text/plain": [
       "(1599, 11)"
      ]
     },
     "execution_count": 10,
     "metadata": {},
     "output_type": "execute_result"
    }
   ],
   "source": [
    "df = pd.read_csv('./data/winequality-red.csv', sep=';', header = 0)\n",
    "std = StandardScaler().fit_transform(df.iloc[:, 0:-1])\n",
    "pcaModel = PCA()\n",
    "pca = pcaModel.fit_transform(std)\n",
    "pca.shape\n"
   ]
  },
  {
   "cell_type": "code",
   "execution_count": 11,
   "id": "f75d50ab",
   "metadata": {},
   "outputs": [
    {
     "data": {
      "text/plain": [
       "array(['fixed acidity', 'volatile acidity', 'citric acid',\n",
       "       'residual sugar', 'chlorides', 'free sulfur dioxide',\n",
       "       'total sulfur dioxide', 'density', 'pH', 'sulphates', 'alcohol',\n",
       "       'quality'], dtype=object)"
      ]
     },
     "execution_count": 11,
     "metadata": {},
     "output_type": "execute_result"
    }
   ],
   "source": [
    "df.columns.values"
   ]
  },
  {
   "cell_type": "code",
   "execution_count": 3,
   "id": "7d2d0cae",
   "metadata": {},
   "outputs": [
    {
     "data": {
      "text/plain": [
       "array([ 28.17393128,  45.68220118,  59.77805108,  70.80743772,\n",
       "        79.52827474,  85.52471351,  90.83190641,  94.67696732,\n",
       "        97.81007747,  99.4585608 , 100.        ])"
      ]
     },
     "execution_count": 3,
     "metadata": {},
     "output_type": "execute_result"
    }
   ],
   "source": [
    "np.cumsum(pcaModel.explained_variance_ratio_ * 100)\n"
   ]
  },
  {
   "cell_type": "code",
   "execution_count": 150,
   "id": "42b62d9e",
   "metadata": {},
   "outputs": [
    {
     "data": {
      "text/plain": [
       "array([28.17393128, 17.50826991, 14.0958499 , 11.02938664,  8.72083701,\n",
       "        5.99643877,  5.3071929 ,  3.84506091,  3.13311015,  1.64848333,\n",
       "        0.5414392 ])"
      ]
     },
     "execution_count": 150,
     "metadata": {},
     "output_type": "execute_result"
    }
   ],
   "source": [
    "pcaModel.explained_variance_ratio_ *100"
   ]
  },
  {
   "cell_type": "code",
   "execution_count": 151,
   "id": "42bc887f",
   "metadata": {},
   "outputs": [
    {
     "data": {
      "text/plain": [
       "array([3.10107182, 1.92711489, 1.55151379, 1.21399175, 0.95989238,\n",
       "       0.66002104, 0.58415655, 0.42322138, 0.34485779, 0.18144664,\n",
       "       0.05959558])"
      ]
     },
     "execution_count": 151,
     "metadata": {},
     "output_type": "execute_result"
    }
   ],
   "source": [
    "pcaModel.explained_variance_"
   ]
  },
  {
   "cell_type": "code",
   "execution_count": 12,
   "id": "01a8d420",
   "metadata": {},
   "outputs": [],
   "source": [
    "eigen_df = pd.DataFrame({'Eigenval': pcaModel.explained_variance_, 'Feature':df.columns.values[:-1]})"
   ]
  },
  {
   "cell_type": "code",
   "execution_count": 13,
   "id": "f53a5fbc",
   "metadata": {},
   "outputs": [
    {
     "data": {
      "text/plain": [
       "'[{\"Eigenval\":3.1010718227,\"Feature\":\"fixed acidity\"},{\"Eigenval\":1.9271148897,\"Feature\":\"volatile acidity\"},{\"Eigenval\":1.5515137913,\"Feature\":\"citric acid\"},{\"Eigenval\":1.2139917499,\"Feature\":\"residual sugar\"},{\"Eigenval\":0.9598923793,\"Feature\":\"chlorides\"},{\"Eigenval\":0.660021036,\"Feature\":\"free sulfur dioxide\"},{\"Eigenval\":0.5841565454,\"Feature\":\"total sulfur dioxide\"},{\"Eigenval\":0.4232213784,\"Feature\":\"density\"},{\"Eigenval\":0.3448577877,\"Feature\":\"pH\"},{\"Eigenval\":0.1814466416,\"Feature\":\"sulphates\"},{\"Eigenval\":0.0595955825,\"Feature\":\"alcohol\"}]'"
      ]
     },
     "execution_count": 13,
     "metadata": {},
     "output_type": "execute_result"
    }
   ],
   "source": [
    "eigen_df.to_json(orient=\"records\")\n"
   ]
  },
  {
   "cell_type": "code",
   "execution_count": 14,
   "id": "97d4dd0d",
   "metadata": {},
   "outputs": [],
   "source": [
    "pca_wine = pd.DataFrame(data = pca, columns=[f'PC{i}' for i in range(1, len(df.columns))])"
   ]
  },
  {
   "cell_type": "code",
   "execution_count": 15,
   "id": "7ecc0eca",
   "metadata": {},
   "outputs": [
    {
     "data": {
      "text/html": [
       "<div>\n",
       "<style scoped>\n",
       "    .dataframe tbody tr th:only-of-type {\n",
       "        vertical-align: middle;\n",
       "    }\n",
       "\n",
       "    .dataframe tbody tr th {\n",
       "        vertical-align: top;\n",
       "    }\n",
       "\n",
       "    .dataframe thead th {\n",
       "        text-align: right;\n",
       "    }\n",
       "</style>\n",
       "<table border=\"1\" class=\"dataframe\">\n",
       "  <thead>\n",
       "    <tr style=\"text-align: right;\">\n",
       "      <th></th>\n",
       "      <th>PC1</th>\n",
       "      <th>PC2</th>\n",
       "      <th>PC3</th>\n",
       "      <th>PC4</th>\n",
       "      <th>PC5</th>\n",
       "      <th>PC6</th>\n",
       "      <th>PC7</th>\n",
       "      <th>PC8</th>\n",
       "      <th>PC9</th>\n",
       "      <th>PC10</th>\n",
       "      <th>PC11</th>\n",
       "    </tr>\n",
       "  </thead>\n",
       "  <tbody>\n",
       "    <tr>\n",
       "      <th>0</th>\n",
       "      <td>-1.619530</td>\n",
       "      <td>0.450950</td>\n",
       "      <td>-1.774454</td>\n",
       "      <td>0.043740</td>\n",
       "      <td>0.067014</td>\n",
       "      <td>-0.913921</td>\n",
       "      <td>-0.161043</td>\n",
       "      <td>-0.282258</td>\n",
       "      <td>0.005098</td>\n",
       "      <td>-0.267759</td>\n",
       "      <td>0.048630</td>\n",
       "    </tr>\n",
       "    <tr>\n",
       "      <th>1</th>\n",
       "      <td>-0.799170</td>\n",
       "      <td>1.856553</td>\n",
       "      <td>-0.911690</td>\n",
       "      <td>0.548066</td>\n",
       "      <td>-0.018392</td>\n",
       "      <td>0.929714</td>\n",
       "      <td>-1.009829</td>\n",
       "      <td>0.762587</td>\n",
       "      <td>-0.520707</td>\n",
       "      <td>0.062833</td>\n",
       "      <td>-0.138142</td>\n",
       "    </tr>\n",
       "    <tr>\n",
       "      <th>2</th>\n",
       "      <td>-0.748479</td>\n",
       "      <td>0.882039</td>\n",
       "      <td>-1.171394</td>\n",
       "      <td>0.411021</td>\n",
       "      <td>-0.043531</td>\n",
       "      <td>0.401473</td>\n",
       "      <td>-0.539553</td>\n",
       "      <td>0.597946</td>\n",
       "      <td>-0.086857</td>\n",
       "      <td>-0.187442</td>\n",
       "      <td>-0.118229</td>\n",
       "    </tr>\n",
       "    <tr>\n",
       "      <th>3</th>\n",
       "      <td>2.357673</td>\n",
       "      <td>-0.269976</td>\n",
       "      <td>0.243489</td>\n",
       "      <td>-0.928450</td>\n",
       "      <td>-1.499149</td>\n",
       "      <td>-0.131017</td>\n",
       "      <td>0.344290</td>\n",
       "      <td>-0.455375</td>\n",
       "      <td>0.091577</td>\n",
       "      <td>-0.130393</td>\n",
       "      <td>0.316714</td>\n",
       "    </tr>\n",
       "    <tr>\n",
       "      <th>4</th>\n",
       "      <td>-1.619530</td>\n",
       "      <td>0.450950</td>\n",
       "      <td>-1.774454</td>\n",
       "      <td>0.043740</td>\n",
       "      <td>0.067014</td>\n",
       "      <td>-0.913921</td>\n",
       "      <td>-0.161043</td>\n",
       "      <td>-0.282258</td>\n",
       "      <td>0.005098</td>\n",
       "      <td>-0.267759</td>\n",
       "      <td>0.048630</td>\n",
       "    </tr>\n",
       "    <tr>\n",
       "      <th>...</th>\n",
       "      <td>...</td>\n",
       "      <td>...</td>\n",
       "      <td>...</td>\n",
       "      <td>...</td>\n",
       "      <td>...</td>\n",
       "      <td>...</td>\n",
       "      <td>...</td>\n",
       "      <td>...</td>\n",
       "      <td>...</td>\n",
       "      <td>...</td>\n",
       "      <td>...</td>\n",
       "    </tr>\n",
       "    <tr>\n",
       "      <th>1594</th>\n",
       "      <td>-2.150500</td>\n",
       "      <td>0.814286</td>\n",
       "      <td>0.617063</td>\n",
       "      <td>0.407687</td>\n",
       "      <td>-0.240936</td>\n",
       "      <td>0.054835</td>\n",
       "      <td>0.170812</td>\n",
       "      <td>-0.355866</td>\n",
       "      <td>-0.971524</td>\n",
       "      <td>0.356851</td>\n",
       "      <td>-0.053382</td>\n",
       "    </tr>\n",
       "    <tr>\n",
       "      <th>1595</th>\n",
       "      <td>-2.214496</td>\n",
       "      <td>0.893101</td>\n",
       "      <td>1.807402</td>\n",
       "      <td>0.414003</td>\n",
       "      <td>0.119592</td>\n",
       "      <td>-0.674711</td>\n",
       "      <td>-0.607970</td>\n",
       "      <td>-0.247640</td>\n",
       "      <td>-1.058135</td>\n",
       "      <td>0.478879</td>\n",
       "      <td>-0.241258</td>\n",
       "    </tr>\n",
       "    <tr>\n",
       "      <th>1596</th>\n",
       "      <td>-1.456129</td>\n",
       "      <td>0.311746</td>\n",
       "      <td>1.124239</td>\n",
       "      <td>0.491877</td>\n",
       "      <td>0.193716</td>\n",
       "      <td>-0.506410</td>\n",
       "      <td>-0.231082</td>\n",
       "      <td>0.079382</td>\n",
       "      <td>-0.808773</td>\n",
       "      <td>0.242248</td>\n",
       "      <td>-0.402910</td>\n",
       "    </tr>\n",
       "    <tr>\n",
       "      <th>1597</th>\n",
       "      <td>-2.270518</td>\n",
       "      <td>0.979791</td>\n",
       "      <td>0.627965</td>\n",
       "      <td>0.639770</td>\n",
       "      <td>0.067735</td>\n",
       "      <td>-0.860408</td>\n",
       "      <td>-0.321487</td>\n",
       "      <td>-0.468876</td>\n",
       "      <td>-0.612248</td>\n",
       "      <td>0.779404</td>\n",
       "      <td>0.040923</td>\n",
       "    </tr>\n",
       "    <tr>\n",
       "      <th>1598</th>\n",
       "      <td>-0.426975</td>\n",
       "      <td>-0.536690</td>\n",
       "      <td>1.628955</td>\n",
       "      <td>-0.391716</td>\n",
       "      <td>0.450482</td>\n",
       "      <td>-0.496154</td>\n",
       "      <td>1.189132</td>\n",
       "      <td>0.042176</td>\n",
       "      <td>0.404309</td>\n",
       "      <td>0.779440</td>\n",
       "      <td>-0.449781</td>\n",
       "    </tr>\n",
       "  </tbody>\n",
       "</table>\n",
       "<p>1599 rows × 11 columns</p>\n",
       "</div>"
      ],
      "text/plain": [
       "           PC1       PC2       PC3       PC4       PC5       PC6       PC7  \\\n",
       "0    -1.619530  0.450950 -1.774454  0.043740  0.067014 -0.913921 -0.161043   \n",
       "1    -0.799170  1.856553 -0.911690  0.548066 -0.018392  0.929714 -1.009829   \n",
       "2    -0.748479  0.882039 -1.171394  0.411021 -0.043531  0.401473 -0.539553   \n",
       "3     2.357673 -0.269976  0.243489 -0.928450 -1.499149 -0.131017  0.344290   \n",
       "4    -1.619530  0.450950 -1.774454  0.043740  0.067014 -0.913921 -0.161043   \n",
       "...        ...       ...       ...       ...       ...       ...       ...   \n",
       "1594 -2.150500  0.814286  0.617063  0.407687 -0.240936  0.054835  0.170812   \n",
       "1595 -2.214496  0.893101  1.807402  0.414003  0.119592 -0.674711 -0.607970   \n",
       "1596 -1.456129  0.311746  1.124239  0.491877  0.193716 -0.506410 -0.231082   \n",
       "1597 -2.270518  0.979791  0.627965  0.639770  0.067735 -0.860408 -0.321487   \n",
       "1598 -0.426975 -0.536690  1.628955 -0.391716  0.450482 -0.496154  1.189132   \n",
       "\n",
       "           PC8       PC9      PC10      PC11  \n",
       "0    -0.282258  0.005098 -0.267759  0.048630  \n",
       "1     0.762587 -0.520707  0.062833 -0.138142  \n",
       "2     0.597946 -0.086857 -0.187442 -0.118229  \n",
       "3    -0.455375  0.091577 -0.130393  0.316714  \n",
       "4    -0.282258  0.005098 -0.267759  0.048630  \n",
       "...        ...       ...       ...       ...  \n",
       "1594 -0.355866 -0.971524  0.356851 -0.053382  \n",
       "1595 -0.247640 -1.058135  0.478879 -0.241258  \n",
       "1596  0.079382 -0.808773  0.242248 -0.402910  \n",
       "1597 -0.468876 -0.612248  0.779404  0.040923  \n",
       "1598  0.042176  0.404309  0.779440 -0.449781  \n",
       "\n",
       "[1599 rows x 11 columns]"
      ]
     },
     "execution_count": 15,
     "metadata": {},
     "output_type": "execute_result"
    }
   ],
   "source": [
    "pca_wine"
   ]
  },
  {
   "cell_type": "code",
   "execution_count": 16,
   "id": "1f50895a",
   "metadata": {},
   "outputs": [
    {
     "data": {
      "text/plain": [
       "array([[ 0.48931422, -0.11050274],\n",
       "       [-0.23858436,  0.27493048],\n",
       "       [ 0.46363166, -0.15179136],\n",
       "       [ 0.14610715,  0.27208024],\n",
       "       [ 0.21224658,  0.14805156],\n",
       "       [-0.03615752,  0.51356681],\n",
       "       [ 0.02357485,  0.56948696],\n",
       "       [ 0.39535301,  0.23357549],\n",
       "       [-0.43851962,  0.00671079],\n",
       "       [ 0.24292133, -0.03755392],\n",
       "       [-0.11323206, -0.38618096]])"
      ]
     },
     "execution_count": 16,
     "metadata": {},
     "output_type": "execute_result"
    }
   ],
   "source": [
    "coeff = np.transpose(pcaModel.components_[0:2, :])\n",
    "coeff"
   ]
  },
  {
   "cell_type": "code",
   "execution_count": 17,
   "id": "0307a828",
   "metadata": {},
   "outputs": [
    {
     "data": {
      "text/html": [
       "<div>\n",
       "<style scoped>\n",
       "    .dataframe tbody tr th:only-of-type {\n",
       "        vertical-align: middle;\n",
       "    }\n",
       "\n",
       "    .dataframe tbody tr th {\n",
       "        vertical-align: top;\n",
       "    }\n",
       "\n",
       "    .dataframe thead th {\n",
       "        text-align: right;\n",
       "    }\n",
       "</style>\n",
       "<table border=\"1\" class=\"dataframe\">\n",
       "  <thead>\n",
       "    <tr style=\"text-align: right;\">\n",
       "      <th></th>\n",
       "      <th>PC1</th>\n",
       "      <th>PC2</th>\n",
       "    </tr>\n",
       "  </thead>\n",
       "  <tbody>\n",
       "    <tr>\n",
       "      <th>0</th>\n",
       "      <td>-1.619530</td>\n",
       "      <td>0.450950</td>\n",
       "    </tr>\n",
       "    <tr>\n",
       "      <th>1</th>\n",
       "      <td>-0.799170</td>\n",
       "      <td>1.856553</td>\n",
       "    </tr>\n",
       "    <tr>\n",
       "      <th>2</th>\n",
       "      <td>-0.748479</td>\n",
       "      <td>0.882039</td>\n",
       "    </tr>\n",
       "    <tr>\n",
       "      <th>3</th>\n",
       "      <td>2.357673</td>\n",
       "      <td>-0.269976</td>\n",
       "    </tr>\n",
       "    <tr>\n",
       "      <th>4</th>\n",
       "      <td>-1.619530</td>\n",
       "      <td>0.450950</td>\n",
       "    </tr>\n",
       "    <tr>\n",
       "      <th>...</th>\n",
       "      <td>...</td>\n",
       "      <td>...</td>\n",
       "    </tr>\n",
       "    <tr>\n",
       "      <th>1594</th>\n",
       "      <td>-2.150500</td>\n",
       "      <td>0.814286</td>\n",
       "    </tr>\n",
       "    <tr>\n",
       "      <th>1595</th>\n",
       "      <td>-2.214496</td>\n",
       "      <td>0.893101</td>\n",
       "    </tr>\n",
       "    <tr>\n",
       "      <th>1596</th>\n",
       "      <td>-1.456129</td>\n",
       "      <td>0.311746</td>\n",
       "    </tr>\n",
       "    <tr>\n",
       "      <th>1597</th>\n",
       "      <td>-2.270518</td>\n",
       "      <td>0.979791</td>\n",
       "    </tr>\n",
       "    <tr>\n",
       "      <th>1598</th>\n",
       "      <td>-0.426975</td>\n",
       "      <td>-0.536690</td>\n",
       "    </tr>\n",
       "  </tbody>\n",
       "</table>\n",
       "<p>1599 rows × 2 columns</p>\n",
       "</div>"
      ],
      "text/plain": [
       "           PC1       PC2\n",
       "0    -1.619530  0.450950\n",
       "1    -0.799170  1.856553\n",
       "2    -0.748479  0.882039\n",
       "3     2.357673 -0.269976\n",
       "4    -1.619530  0.450950\n",
       "...        ...       ...\n",
       "1594 -2.150500  0.814286\n",
       "1595 -2.214496  0.893101\n",
       "1596 -1.456129  0.311746\n",
       "1597 -2.270518  0.979791\n",
       "1598 -0.426975 -0.536690\n",
       "\n",
       "[1599 rows x 2 columns]"
      ]
     },
     "execution_count": 17,
     "metadata": {},
     "output_type": "execute_result"
    }
   ],
   "source": [
    "pca2D = pca_wine[['PC1', 'PC2']]\n",
    "pca2D"
   ]
  },
  {
   "cell_type": "code",
   "execution_count": 18,
   "id": "74b62825",
   "metadata": {},
   "outputs": [
    {
     "data": {
      "text/html": [
       "<div>\n",
       "<style scoped>\n",
       "    .dataframe tbody tr th:only-of-type {\n",
       "        vertical-align: middle;\n",
       "    }\n",
       "\n",
       "    .dataframe tbody tr th {\n",
       "        vertical-align: top;\n",
       "    }\n",
       "\n",
       "    .dataframe thead th {\n",
       "        text-align: right;\n",
       "    }\n",
       "</style>\n",
       "<table border=\"1\" class=\"dataframe\">\n",
       "  <thead>\n",
       "    <tr style=\"text-align: right;\">\n",
       "      <th></th>\n",
       "      <th>x</th>\n",
       "      <th>y</th>\n",
       "    </tr>\n",
       "  </thead>\n",
       "  <tbody>\n",
       "    <tr>\n",
       "      <th>0</th>\n",
       "      <td>0.489314</td>\n",
       "      <td>-0.110503</td>\n",
       "    </tr>\n",
       "    <tr>\n",
       "      <th>1</th>\n",
       "      <td>-0.238584</td>\n",
       "      <td>0.274930</td>\n",
       "    </tr>\n",
       "    <tr>\n",
       "      <th>2</th>\n",
       "      <td>0.463632</td>\n",
       "      <td>-0.151791</td>\n",
       "    </tr>\n",
       "    <tr>\n",
       "      <th>3</th>\n",
       "      <td>0.146107</td>\n",
       "      <td>0.272080</td>\n",
       "    </tr>\n",
       "    <tr>\n",
       "      <th>4</th>\n",
       "      <td>0.212247</td>\n",
       "      <td>0.148052</td>\n",
       "    </tr>\n",
       "    <tr>\n",
       "      <th>5</th>\n",
       "      <td>-0.036158</td>\n",
       "      <td>0.513567</td>\n",
       "    </tr>\n",
       "    <tr>\n",
       "      <th>6</th>\n",
       "      <td>0.023575</td>\n",
       "      <td>0.569487</td>\n",
       "    </tr>\n",
       "    <tr>\n",
       "      <th>7</th>\n",
       "      <td>0.395353</td>\n",
       "      <td>0.233575</td>\n",
       "    </tr>\n",
       "    <tr>\n",
       "      <th>8</th>\n",
       "      <td>-0.438520</td>\n",
       "      <td>0.006711</td>\n",
       "    </tr>\n",
       "    <tr>\n",
       "      <th>9</th>\n",
       "      <td>0.242921</td>\n",
       "      <td>-0.037554</td>\n",
       "    </tr>\n",
       "    <tr>\n",
       "      <th>10</th>\n",
       "      <td>-0.113232</td>\n",
       "      <td>-0.386181</td>\n",
       "    </tr>\n",
       "  </tbody>\n",
       "</table>\n",
       "</div>"
      ],
      "text/plain": [
       "           x         y\n",
       "0   0.489314 -0.110503\n",
       "1  -0.238584  0.274930\n",
       "2   0.463632 -0.151791\n",
       "3   0.146107  0.272080\n",
       "4   0.212247  0.148052\n",
       "5  -0.036158  0.513567\n",
       "6   0.023575  0.569487\n",
       "7   0.395353  0.233575\n",
       "8  -0.438520  0.006711\n",
       "9   0.242921 -0.037554\n",
       "10 -0.113232 -0.386181"
      ]
     },
     "execution_count": 18,
     "metadata": {},
     "output_type": "execute_result"
    }
   ],
   "source": [
    "loadings = pd.DataFrame(data=coeff, columns=['x','y'])\n",
    "loadings"
   ]
  },
  {
   "cell_type": "code",
   "execution_count": 19,
   "id": "06a010e4",
   "metadata": {},
   "outputs": [
    {
     "data": {
      "text/html": [
       "<div>\n",
       "<style scoped>\n",
       "    .dataframe tbody tr th:only-of-type {\n",
       "        vertical-align: middle;\n",
       "    }\n",
       "\n",
       "    .dataframe tbody tr th {\n",
       "        vertical-align: top;\n",
       "    }\n",
       "\n",
       "    .dataframe thead th {\n",
       "        text-align: right;\n",
       "    }\n",
       "</style>\n",
       "<table border=\"1\" class=\"dataframe\">\n",
       "  <thead>\n",
       "    <tr style=\"text-align: right;\">\n",
       "      <th></th>\n",
       "      <th>x</th>\n",
       "      <th>y</th>\n",
       "      <th>label</th>\n",
       "    </tr>\n",
       "  </thead>\n",
       "  <tbody>\n",
       "    <tr>\n",
       "      <th>0</th>\n",
       "      <td>0.489314</td>\n",
       "      <td>-0.110503</td>\n",
       "      <td>fixed acidity</td>\n",
       "    </tr>\n",
       "    <tr>\n",
       "      <th>1</th>\n",
       "      <td>-0.238584</td>\n",
       "      <td>0.274930</td>\n",
       "      <td>volatile acidity</td>\n",
       "    </tr>\n",
       "    <tr>\n",
       "      <th>2</th>\n",
       "      <td>0.463632</td>\n",
       "      <td>-0.151791</td>\n",
       "      <td>citric acid</td>\n",
       "    </tr>\n",
       "    <tr>\n",
       "      <th>3</th>\n",
       "      <td>0.146107</td>\n",
       "      <td>0.272080</td>\n",
       "      <td>residual sugar</td>\n",
       "    </tr>\n",
       "    <tr>\n",
       "      <th>4</th>\n",
       "      <td>0.212247</td>\n",
       "      <td>0.148052</td>\n",
       "      <td>chlorides</td>\n",
       "    </tr>\n",
       "    <tr>\n",
       "      <th>5</th>\n",
       "      <td>-0.036158</td>\n",
       "      <td>0.513567</td>\n",
       "      <td>free sulfur dioxide</td>\n",
       "    </tr>\n",
       "    <tr>\n",
       "      <th>6</th>\n",
       "      <td>0.023575</td>\n",
       "      <td>0.569487</td>\n",
       "      <td>total sulfur dioxide</td>\n",
       "    </tr>\n",
       "    <tr>\n",
       "      <th>7</th>\n",
       "      <td>0.395353</td>\n",
       "      <td>0.233575</td>\n",
       "      <td>density</td>\n",
       "    </tr>\n",
       "    <tr>\n",
       "      <th>8</th>\n",
       "      <td>-0.438520</td>\n",
       "      <td>0.006711</td>\n",
       "      <td>pH</td>\n",
       "    </tr>\n",
       "    <tr>\n",
       "      <th>9</th>\n",
       "      <td>0.242921</td>\n",
       "      <td>-0.037554</td>\n",
       "      <td>sulphates</td>\n",
       "    </tr>\n",
       "    <tr>\n",
       "      <th>10</th>\n",
       "      <td>-0.113232</td>\n",
       "      <td>-0.386181</td>\n",
       "      <td>alcohol</td>\n",
       "    </tr>\n",
       "  </tbody>\n",
       "</table>\n",
       "</div>"
      ],
      "text/plain": [
       "           x         y                 label\n",
       "0   0.489314 -0.110503         fixed acidity\n",
       "1  -0.238584  0.274930      volatile acidity\n",
       "2   0.463632 -0.151791           citric acid\n",
       "3   0.146107  0.272080        residual sugar\n",
       "4   0.212247  0.148052             chlorides\n",
       "5  -0.036158  0.513567   free sulfur dioxide\n",
       "6   0.023575  0.569487  total sulfur dioxide\n",
       "7   0.395353  0.233575               density\n",
       "8  -0.438520  0.006711                    pH\n",
       "9   0.242921 -0.037554             sulphates\n",
       "10 -0.113232 -0.386181               alcohol"
      ]
     },
     "execution_count": 19,
     "metadata": {},
     "output_type": "execute_result"
    }
   ],
   "source": [
    "loadings['label'] = df.columns.values[:-1]\n",
    "loadings"
   ]
  },
  {
   "cell_type": "code",
   "execution_count": 20,
   "id": "399782fa",
   "metadata": {},
   "outputs": [
    {
     "data": {
      "text/plain": [
       "array([3.10107182, 1.92711489, 1.55151379, 1.21399175, 0.95989238,\n",
       "       0.66002104, 0.58415655, 0.42322138, 0.34485779, 0.18144664,\n",
       "       0.05959558])"
      ]
     },
     "execution_count": 20,
     "metadata": {},
     "output_type": "execute_result"
    }
   ],
   "source": [
    "np.sum(np.square(pcaModel.components_.T *\n",
    "       np.sqrt(pcaModel.explained_variance_)), axis=0)\n"
   ]
  },
  {
   "cell_type": "code",
   "execution_count": 21,
   "id": "f0f88565",
   "metadata": {},
   "outputs": [
    {
     "data": {
      "text/plain": [
       "array([[ 0.48931422, -0.23858436,  0.46363166,  0.14610715,  0.21224658,\n",
       "        -0.03615752,  0.02357485,  0.39535301, -0.43851962,  0.24292133,\n",
       "        -0.11323206],\n",
       "       [-0.11050274,  0.27493048, -0.15179136,  0.27208024,  0.14805156,\n",
       "         0.51356681,  0.56948696,  0.23357549,  0.00671079, -0.03755392,\n",
       "        -0.38618096],\n",
       "       [-0.12330157, -0.44996253,  0.23824707,  0.10128338, -0.09261383,\n",
       "         0.42879287,  0.3224145 , -0.33887135,  0.05769735,  0.27978615,\n",
       "         0.47167322],\n",
       "       [-0.22961737,  0.07895978, -0.07941826, -0.37279256,  0.66619476,\n",
       "        -0.04353782, -0.03457712, -0.17449976, -0.00378775,  0.55087236,\n",
       "        -0.12218109],\n",
       "       [-0.08261366,  0.21873452, -0.05857268,  0.73214429,  0.2465009 ,\n",
       "        -0.15915198, -0.22246456,  0.15707671,  0.26752977,  0.22596222,\n",
       "         0.35068141],\n",
       "       [ 0.10147858,  0.41144893,  0.06959338,  0.04915555,  0.30433857,\n",
       "        -0.01400021,  0.13630755, -0.3911523 , -0.52211645, -0.38126343,\n",
       "         0.36164504],\n",
       "       [-0.35022736, -0.5337351 ,  0.10549701,  0.29066341,  0.37041337,\n",
       "        -0.11659611, -0.09366237, -0.17048116, -0.02513762, -0.44746911,\n",
       "        -0.3276509 ],\n",
       "       [-0.17759545, -0.07877531, -0.37751558,  0.29984469, -0.35700936,\n",
       "        -0.2047805 ,  0.01903597, -0.23922267, -0.56139075,  0.37460432,\n",
       "        -0.21762556],\n",
       "       [-0.19402091,  0.1291103 ,  0.38144967, -0.00752295, -0.11133867,\n",
       "        -0.63540522,  0.59211589, -0.02071868,  0.16774589,  0.05836706,\n",
       "        -0.03760311],\n",
       "       [-0.24952314,  0.36592473,  0.62167708,  0.09287208, -0.21767112,\n",
       "         0.24848326, -0.37075027, -0.23999012, -0.0109696 ,  0.11232046,\n",
       "        -0.3030145 ],\n",
       "       [ 0.63969145,  0.0023886 , -0.0709103 ,  0.18402996,  0.05306532,\n",
       "        -0.05142086,  0.0687016 , -0.5673319 ,  0.3407109 ,  0.06955538,\n",
       "        -0.31452591]])"
      ]
     },
     "execution_count": 21,
     "metadata": {},
     "output_type": "execute_result"
    }
   ],
   "source": [
    "pcaModel.components_"
   ]
  },
  {
   "cell_type": "code",
   "execution_count": 22,
   "id": "dffdb365",
   "metadata": {},
   "outputs": [],
   "source": [
    "sov = pd.DataFrame(data=pcaModel.components_, columns=[f'PC{i}' for i in range(1, len(df.columns))])\n",
    "sov['feature'] = df.columns.values[:-1]\n",
    "sov = sov.iloc[:, [i for i in range(-1, len(df.columns)-1)]]\n"
   ]
  },
  {
   "cell_type": "code",
   "execution_count": 23,
   "id": "c58ed430",
   "metadata": {},
   "outputs": [],
   "source": [
    "i = 2"
   ]
  },
  {
   "cell_type": "code",
   "execution_count": 24,
   "id": "88e9d72b",
   "metadata": {},
   "outputs": [],
   "source": [
    "ssdf = sov.iloc[:, :i+1]\n",
    "ssdf['Sum of squared Loadings'] = ssdf.iloc[:,1:].pow(2).sum(axis=1).pow(0.5)\n"
   ]
  },
  {
   "cell_type": "code",
   "execution_count": 25,
   "id": "3d221f92",
   "metadata": {},
   "outputs": [
    {
     "data": {
      "text/html": [
       "<div>\n",
       "<style scoped>\n",
       "    .dataframe tbody tr th:only-of-type {\n",
       "        vertical-align: middle;\n",
       "    }\n",
       "\n",
       "    .dataframe tbody tr th {\n",
       "        vertical-align: top;\n",
       "    }\n",
       "\n",
       "    .dataframe thead th {\n",
       "        text-align: right;\n",
       "    }\n",
       "</style>\n",
       "<table border=\"1\" class=\"dataframe\">\n",
       "  <thead>\n",
       "    <tr style=\"text-align: right;\">\n",
       "      <th></th>\n",
       "      <th>feature</th>\n",
       "      <th>PC1</th>\n",
       "      <th>PC2</th>\n",
       "      <th>Sum of squared Loadings</th>\n",
       "    </tr>\n",
       "  </thead>\n",
       "  <tbody>\n",
       "    <tr>\n",
       "      <th>0</th>\n",
       "      <td>fixed acidity</td>\n",
       "      <td>0.489314</td>\n",
       "      <td>-0.238584</td>\n",
       "      <td>0.544381</td>\n",
       "    </tr>\n",
       "    <tr>\n",
       "      <th>1</th>\n",
       "      <td>volatile acidity</td>\n",
       "      <td>-0.110503</td>\n",
       "      <td>0.274930</td>\n",
       "      <td>0.296307</td>\n",
       "    </tr>\n",
       "    <tr>\n",
       "      <th>2</th>\n",
       "      <td>citric acid</td>\n",
       "      <td>-0.123302</td>\n",
       "      <td>-0.449963</td>\n",
       "      <td>0.466551</td>\n",
       "    </tr>\n",
       "    <tr>\n",
       "      <th>3</th>\n",
       "      <td>residual sugar</td>\n",
       "      <td>-0.229617</td>\n",
       "      <td>0.078960</td>\n",
       "      <td>0.242814</td>\n",
       "    </tr>\n",
       "    <tr>\n",
       "      <th>4</th>\n",
       "      <td>chlorides</td>\n",
       "      <td>-0.082614</td>\n",
       "      <td>0.218735</td>\n",
       "      <td>0.233816</td>\n",
       "    </tr>\n",
       "    <tr>\n",
       "      <th>5</th>\n",
       "      <td>free sulfur dioxide</td>\n",
       "      <td>0.101479</td>\n",
       "      <td>0.411449</td>\n",
       "      <td>0.423778</td>\n",
       "    </tr>\n",
       "    <tr>\n",
       "      <th>6</th>\n",
       "      <td>total sulfur dioxide</td>\n",
       "      <td>-0.350227</td>\n",
       "      <td>-0.533735</td>\n",
       "      <td>0.638383</td>\n",
       "    </tr>\n",
       "    <tr>\n",
       "      <th>7</th>\n",
       "      <td>density</td>\n",
       "      <td>-0.177595</td>\n",
       "      <td>-0.078775</td>\n",
       "      <td>0.194283</td>\n",
       "    </tr>\n",
       "    <tr>\n",
       "      <th>8</th>\n",
       "      <td>pH</td>\n",
       "      <td>-0.194021</td>\n",
       "      <td>0.129110</td>\n",
       "      <td>0.233053</td>\n",
       "    </tr>\n",
       "    <tr>\n",
       "      <th>9</th>\n",
       "      <td>sulphates</td>\n",
       "      <td>-0.249523</td>\n",
       "      <td>0.365925</td>\n",
       "      <td>0.442903</td>\n",
       "    </tr>\n",
       "    <tr>\n",
       "      <th>10</th>\n",
       "      <td>alcohol</td>\n",
       "      <td>0.639691</td>\n",
       "      <td>0.002389</td>\n",
       "      <td>0.639696</td>\n",
       "    </tr>\n",
       "  </tbody>\n",
       "</table>\n",
       "</div>"
      ],
      "text/plain": [
       "                 feature       PC1       PC2  Sum of squared Loadings\n",
       "0          fixed acidity  0.489314 -0.238584                 0.544381\n",
       "1       volatile acidity -0.110503  0.274930                 0.296307\n",
       "2            citric acid -0.123302 -0.449963                 0.466551\n",
       "3         residual sugar -0.229617  0.078960                 0.242814\n",
       "4              chlorides -0.082614  0.218735                 0.233816\n",
       "5    free sulfur dioxide  0.101479  0.411449                 0.423778\n",
       "6   total sulfur dioxide -0.350227 -0.533735                 0.638383\n",
       "7                density -0.177595 -0.078775                 0.194283\n",
       "8                     pH -0.194021  0.129110                 0.233053\n",
       "9              sulphates -0.249523  0.365925                 0.442903\n",
       "10               alcohol  0.639691  0.002389                 0.639696"
      ]
     },
     "execution_count": 25,
     "metadata": {},
     "output_type": "execute_result"
    }
   ],
   "source": [
    "ssdf\n"
   ]
  },
  {
   "cell_type": "code",
   "execution_count": 26,
   "id": "98d79f19",
   "metadata": {},
   "outputs": [
    {
     "data": {
      "text/html": [
       "<div>\n",
       "<style scoped>\n",
       "    .dataframe tbody tr th:only-of-type {\n",
       "        vertical-align: middle;\n",
       "    }\n",
       "\n",
       "    .dataframe tbody tr th {\n",
       "        vertical-align: top;\n",
       "    }\n",
       "\n",
       "    .dataframe thead th {\n",
       "        text-align: right;\n",
       "    }\n",
       "</style>\n",
       "<table border=\"1\" class=\"dataframe\">\n",
       "  <thead>\n",
       "    <tr style=\"text-align: right;\">\n",
       "      <th></th>\n",
       "      <th>feature</th>\n",
       "      <th>PC1</th>\n",
       "      <th>PC2</th>\n",
       "      <th>Sum of squared Loadings</th>\n",
       "    </tr>\n",
       "  </thead>\n",
       "  <tbody>\n",
       "    <tr>\n",
       "      <th>10</th>\n",
       "      <td>alcohol</td>\n",
       "      <td>0.639691</td>\n",
       "      <td>0.002389</td>\n",
       "      <td>0.639696</td>\n",
       "    </tr>\n",
       "    <tr>\n",
       "      <th>6</th>\n",
       "      <td>total sulfur dioxide</td>\n",
       "      <td>-0.350227</td>\n",
       "      <td>-0.533735</td>\n",
       "      <td>0.638383</td>\n",
       "    </tr>\n",
       "    <tr>\n",
       "      <th>0</th>\n",
       "      <td>fixed acidity</td>\n",
       "      <td>0.489314</td>\n",
       "      <td>-0.238584</td>\n",
       "      <td>0.544381</td>\n",
       "    </tr>\n",
       "    <tr>\n",
       "      <th>2</th>\n",
       "      <td>citric acid</td>\n",
       "      <td>-0.123302</td>\n",
       "      <td>-0.449963</td>\n",
       "      <td>0.466551</td>\n",
       "    </tr>\n",
       "  </tbody>\n",
       "</table>\n",
       "</div>"
      ],
      "text/plain": [
       "                 feature       PC1       PC2  Sum of squared Loadings\n",
       "10               alcohol  0.639691  0.002389                 0.639696\n",
       "6   total sulfur dioxide -0.350227 -0.533735                 0.638383\n",
       "0          fixed acidity  0.489314 -0.238584                 0.544381\n",
       "2            citric acid -0.123302 -0.449963                 0.466551"
      ]
     },
     "execution_count": 26,
     "metadata": {},
     "output_type": "execute_result"
    }
   ],
   "source": [
    "tableDF = ssdf.sort_values(by=['Sum of squared Loadings'], ascending=False)\n",
    "tableDF = tableDF.iloc[:4, :]\n",
    "tableDF"
   ]
  },
  {
   "cell_type": "code",
   "execution_count": 28,
   "id": "19d800e9",
   "metadata": {},
   "outputs": [
    {
     "name": "stderr",
     "output_type": "stream",
     "text": [
      "C:\\Users\\zhouc\\AppData\\Local\\Temp\\ipykernel_16320\\3024589371.py:12: SettingWithCopyWarning: \n",
      "A value is trying to be set on a copy of a slice from a DataFrame.\n",
      "Try using .loc[row_indexer,col_indexer] = value instead\n",
      "\n",
      "See the caveats in the documentation: https://pandas.pydata.org/pandas-docs/stable/user_guide/indexing.html#returning-a-view-versus-a-copy\n",
      "  pca2D['k_means'] = kmeanModel.predict(data)\n"
     ]
    }
   ],
   "source": [
    "target = df['quality']\n",
    "data = df.iloc[:, :-1]\n",
    "distortions = []\n",
    "K = range(1, 11)\n",
    "for k in K:\n",
    "    kmeanModel = KMeans(n_clusters=k)\n",
    "    kmeanModel.fit(data)\n",
    "    distortions.append(kmeanModel.inertia_)\n",
    "\n",
    "kmeanModel = KMeans(n_clusters=3)\n",
    "kmeanModel.fit(data)\n",
    "pca2D['k_means'] = kmeanModel.predict(data)\n"
   ]
  },
  {
   "cell_type": "code",
   "execution_count": 30,
   "id": "4aaa23a4",
   "metadata": {},
   "outputs": [
    {
     "data": {
      "text/plain": [
       "array([1, 2, 0])"
      ]
     },
     "execution_count": 30,
     "metadata": {},
     "output_type": "execute_result"
    }
   ],
   "source": [
    "pca2D['k_means'].unique()\n"
   ]
  },
  {
   "cell_type": "code",
   "execution_count": 32,
   "id": "d78f2802",
   "metadata": {},
   "outputs": [
    {
     "data": {
      "text/plain": [
       "[0.6034220347331241,\n",
       " 0.5209776312111326,\n",
       " 0.4857117073606672,\n",
       " 0.4468202676395936,\n",
       " 0.44850222651946337,\n",
       " 0.40245210148242533,\n",
       " 0.3810886561321094,\n",
       " 0.3854739839284218,\n",
       " 0.3841797233457916]"
      ]
     },
     "execution_count": 32,
     "metadata": {},
     "output_type": "execute_result"
    }
   ],
   "source": [
    "\n",
    "from sklearn.metrics import silhouette_score\n",
    "sil = []\n",
    "kmax = 10\n",
    "for k in range(2, kmax+1):\n",
    "  kmeans = KMeans(n_clusters=k).fit(data)\n",
    "  labels = kmeans.labels_\n",
    "  sil.append(silhouette_score(data, labels, metric='euclidean'))\n",
    "sil\n"
   ]
  },
  {
   "cell_type": "code",
   "execution_count": 33,
   "id": "3a38aaab",
   "metadata": {},
   "outputs": [
    {
     "data": {
      "image/png": "[encoded data removed]",
      "text/plain": [
       "<Figure size 640x480 with 1 Axes>"
      ]
     },
     "metadata": {},
     "output_type": "display_data"
    }
   ],
   "source": [
    "import matplotlib.pyplot as plt\n",
    "distortions = []\n",
    "for i in range(1, 11):\n",
    "    km = KMeans(\n",
    "        n_clusters=i, init='random',\n",
    "        n_init=10, max_iter=300,\n",
    "        tol=1e-04, random_state=0\n",
    "    )\n",
    "    km.fit(data)\n",
    "    distortions.append(km.inertia_)\n",
    "\n",
    "# plot\n",
    "plt.plot(range(1, 11), distortions, marker='o')\n",
    "plt.xlabel('Number of clusters')\n",
    "plt.ylabel('Distortion')\n",
    "plt.show()\n"
   ]
  }
 ],
 "metadata": {
  "kernelspec": {
   "display_name": "Python 3",
   "language": "python",
   "name": "python3"
  },
  "language_info": {
   "codemirror_mode": {
    "name": "ipython",
    "version": 3
   },
   "file_extension": ".py",
   "mimetype": "text/x-python",
   "name": "python",
   "nbconvert_exporter": "python",
   "pygments_lexer": "ipython3",
   "version": "3.10.6"
  },
  "vscode": {
   "interpreter": {
    "hash": "5f59901cf3784662a2f58a04e992cdb1dca21d0829936d4f41364f7fc949738c"
   }
  }
 },
 "nbformat": 4,
 "nbformat_minor": 5
}
